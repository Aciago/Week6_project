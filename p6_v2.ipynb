{
 "cells": [
  {
   "cell_type": "markdown",
   "metadata": {},
   "source": [
    "# Week 6, Models project"
   ]
  },
  {
   "cell_type": "raw",
   "metadata": {},
   "source": [
    "what to do:\n",
    "    - get data\n",
    "    - clean it\n",
    "    - exploratory analysis \\ visualize it\n",
    "    - build some models\n",
    "    - do some feature engineering\n",
    "    - re-build model\n",
    "    - compare results\n",
    "    \n",
    "https://www.kaggle.com/lucabasa/dutch-energy\n",
    "https://www.kaggle.com/rajeevw/ufcdata"
   ]
  },
  {
   "cell_type": "markdown",
   "metadata": {},
   "source": [
    "### Data Science Tutorial – Methodologies\n",
    "https://data-flair.training/blogs/data-science-tutorial/\n",
    "\n",
    "a. Machine Learning for Pattern Discovery\n",
    "\n",
    "With this, clustering comes into play. This is an algorithm to use to discover patterns; an unsupervised model. When you don’t have parameters on which to make predictions, clustering will let you find hidden patterns within a dataset.\n",
    "\n",
    "One such use-case is to use clustering in a telephone company to determine tower locations for optimum signal strength.\n",
    "b. Machine Learning for Making Predictions\n",
    "\n",
    "When we have the data we need to train our machine, we can use supervised learning to deal with transactional data. Making use of machine learning algorithms, we can build a model and determine what trends the future will observe.\n",
    "c. Predictive Causal Analytics\n",
    "\n",
    "Causal analytics lets us make predictions based on a cause. This will tell us how probable an event is to hold occurrence in future. One use-case will be to perform such analytics on payment histories of customers in a bank. This tells us how likely customers are to reimburse loans.\n",
    "d. Prescriptive Analytics\n",
    "\n",
    "Predictive analysis will prescribe your actions and the outcomes associated with those. This intelligence lets it take decisions and modify those using dynamic parameters. For a use-case, let us suggest the self-driving car by Google. With the algorithms in place, it can decide when to speed up or slow down, when to turn, and which road to take."
   ]
  },
  {
   "cell_type": "code",
   "execution_count": 3,
   "metadata": {},
   "outputs": [],
   "source": [
    "import pandas as pd\n",
    "import scipy\n",
    "import numpy as np\n",
    "import matplotlib.pyplot as plt\n",
    "import sklearn\n",
    "import seaborn as sns"
   ]
  },
  {
   "cell_type": "code",
   "execution_count": 2,
   "metadata": {},
   "outputs": [
    {
     "name": "stdout",
     "output_type": "stream",
     "text": [
      "Requirement already satisfied: statsmodels in c:\\users\\aciago\\anaconda3\\lib\\site-packages (0.11.0)\n",
      "Requirement already satisfied: numpy>=1.14 in c:\\users\\aciago\\anaconda3\\lib\\site-packages (from statsmodels) (1.18.1)\n",
      "Requirement already satisfied: scipy>=1.0 in c:\\users\\aciago\\anaconda3\\lib\\site-packages (from statsmodels) (1.4.1)\n",
      "Requirement already satisfied: pandas>=0.21 in c:\\users\\aciago\\anaconda3\\lib\\site-packages (from statsmodels) (1.0.0)\n",
      "Requirement already satisfied: patsy>=0.5 in c:\\users\\aciago\\anaconda3\\lib\\site-packages (from statsmodels) (0.5.1)\n",
      "Requirement already satisfied: pytz>=2017.2 in c:\\users\\aciago\\anaconda3\\lib\\site-packages (from pandas>=0.21->statsmodels) (2019.3)\n",
      "Requirement already satisfied: python-dateutil>=2.6.1 in c:\\users\\aciago\\anaconda3\\lib\\site-packages (from pandas>=0.21->statsmodels) (2.8.1)\n",
      "Requirement already satisfied: six in c:\\users\\aciago\\anaconda3\\lib\\site-packages (from patsy>=0.5->statsmodels) (1.14.0)\n"
     ]
    }
   ],
   "source": [
    "!pip install statsmodels"
   ]
  },
  {
   "cell_type": "code",
   "execution_count": 4,
   "metadata": {},
   "outputs": [
    {
     "name": "stdout",
     "output_type": "stream",
     "text": [
      "Python: 3.7.6 (default, Jan  8 2020, 20:23:39) [MSC v.1916 64 bit (AMD64)]\n",
      "scipy: 1.4.1\n",
      "numpy: 1.18.1\n",
      "matplotlib: 3.1.3\n",
      "pandas: 1.0.0\n",
      "sklearn: 0.22.1\n"
     ]
    }
   ],
   "source": [
    "# Check the versions of libraries\n",
    "\n",
    "# Python version\n",
    "import sys\n",
    "print('Python: {}'.format(sys.version))\n",
    "# scipy\n",
    "import scipy\n",
    "print('scipy: {}'.format(scipy.__version__))\n",
    "# numpy\n",
    "import numpy\n",
    "print('numpy: {}'.format(numpy.__version__))\n",
    "# matplotlib\n",
    "import matplotlib\n",
    "print('matplotlib: {}'.format(matplotlib.__version__))\n",
    "# pandas\n",
    "import pandas\n",
    "print('pandas: {}'.format(pandas.__version__))\n",
    "# scikit-learn\n",
    "import sklearn\n",
    "print('sklearn: {}'.format(sklearn.__version__))"
   ]
  },
  {
   "cell_type": "code",
   "execution_count": null,
   "metadata": {},
   "outputs": [],
   "source": []
  },
  {
   "cell_type": "code",
   "execution_count": null,
   "metadata": {},
   "outputs": [],
   "source": []
  },
  {
   "cell_type": "code",
   "execution_count": null,
   "metadata": {},
   "outputs": [],
   "source": []
  }
 ],
 "metadata": {
  "kernelspec": {
   "display_name": "Python 3",
   "language": "python",
   "name": "python3"
  },
  "language_info": {
   "codemirror_mode": {
    "name": "ipython",
    "version": 3
   },
   "file_extension": ".py",
   "mimetype": "text/x-python",
   "name": "python",
   "nbconvert_exporter": "python",
   "pygments_lexer": "ipython3",
   "version": "3.7.6"
  }
 },
 "nbformat": 4,
 "nbformat_minor": 4
}
